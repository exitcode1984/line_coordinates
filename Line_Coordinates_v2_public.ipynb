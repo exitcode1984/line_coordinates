{
  "nbformat": 4,
  "nbformat_minor": 0,
  "metadata": {
    "colab": {
      "provenance": [],
      "gpuType": "T4",
      "authorship_tag": "ABX9TyPJgGC4/Lf5KedqE6cY/fVp",
      "include_colab_link": true
    },
    "kernelspec": {
      "name": "python3",
      "display_name": "Python 3"
    },
    "language_info": {
      "name": "python"
    },
    "accelerator": "GPU"
  },
  "cells": [
    {
      "cell_type": "markdown",
      "metadata": {
        "id": "view-in-github",
        "colab_type": "text"
      },
      "source": [
        "<a href=\"https://colab.research.google.com/github/exitcode1984/line_coordinates/blob/main/Line_Coordinates_v2_public.ipynb\" target=\"_parent\"><img src=\"https://colab.research.google.com/assets/colab-badge.svg\" alt=\"Open In Colab\"/></a>"
      ]
    },
    {
      "cell_type": "markdown",
      "source": [
        "Hello, Be Safe team!\n",
        "\n",
        "I am glad that you gave me this opportunity to show my knowledge.\n",
        "Below you will find my code for the task I got by email.\n",
        "In this version 2.0 I have made some changes in line coordinates detection.\n",
        "Specifically, there is another algorithm is being used - it is called HoughLinesP.\n",
        "I tried to add some necesary comments for better understanding.\n",
        "\n",
        "**Version 2 changes:**\n",
        "- `cv2.HoughLinesP()` algorithm is being used in order to detect the lines and the coordinates\n",
        "- Recommended image preprocessing is being added, particularly `cv2.bitwise_not()` and `cv2.GaussianBlur()`\n",
        "- Implemented dynamic sensitivity adjust for each image detection\n",
        "- Added docstrings to the functions"
      ],
      "metadata": {
        "id": "GtsdDvsqBHqE"
      }
    },
    {
      "cell_type": "markdown",
      "source": [
        "### Import Python modules"
      ],
      "metadata": {
        "id": "tUYuaAV7Skh8"
      }
    },
    {
      "cell_type": "code",
      "execution_count": null,
      "metadata": {
        "id": "oM0tdiYgLtbD"
      },
      "outputs": [],
      "source": [
        "# Import matplotlib for visualization\n",
        "import cv2\n",
        "import matplotlib.pyplot as plt\n",
        "\n",
        "import numpy as np\n",
        "import pandas as pd\n",
        "import random\n",
        "\n",
        "from PIL import Image, ImageDraw\n",
        "import os\n",
        "import csv\n",
        "import torch"
      ]
    },
    {
      "cell_type": "markdown",
      "source": [
        "### Hyperparameters"
      ],
      "metadata": {
        "id": "j_32NfFNSxZ0"
      }
    },
    {
      "cell_type": "code",
      "source": [
        "# Set Hyperparameters\n",
        "# number of images\n",
        "SET_SIZE = 100\n",
        "# the size of 1 image in px\n",
        "IMG_SIZE = 64\n",
        "# images directory\n",
        "IMAGE_DIR = 'linedata'"
      ],
      "metadata": {
        "id": "CBt_M6gWL3OQ"
      },
      "execution_count": null,
      "outputs": []
    },
    {
      "cell_type": "markdown",
      "source": [
        "### Generating coordinates"
      ],
      "metadata": {
        "id": "5Rvt0sMvNQGA"
      }
    },
    {
      "cell_type": "code",
      "source": [
        "# set random seed to ensure that results are reproducible.\n",
        "random.seed(77)\n",
        "\n",
        "# generating the coordinates\n",
        "dots = tuple(tuple(random.randint(0,IMG_SIZE-1) for _ in range(4)) for _ in range(SET_SIZE))\n",
        "# first 5 samples of coordinates (x1, y1, x2, y2)\n",
        "dots[:5]"
      ],
      "metadata": {
        "colab": {
          "base_uri": "https://localhost:8080/"
        },
        "id": "bne9y6vQL_eR",
        "outputId": "930cabbd-d9ea-4058-b52d-e5ec65fa2881"
      },
      "execution_count": null,
      "outputs": [
        {
          "output_type": "execute_result",
          "data": {
            "text/plain": [
              "((32, 41, 25, 30),\n",
              " (24, 14, 37, 60),\n",
              " (30, 18, 0, 35),\n",
              " (3, 63, 22, 24),\n",
              " (49, 23, 42, 41))"
            ]
          },
          "metadata": {},
          "execution_count": 4
        }
      ]
    },
    {
      "cell_type": "code",
      "source": [
        "# delete a folder and create a new one\n",
        "!rm -rf linedata\n",
        "os.mkdir(IMAGE_DIR)"
      ],
      "metadata": {
        "id": "lYjB_6CHL_hA"
      },
      "execution_count": null,
      "outputs": []
    },
    {
      "cell_type": "markdown",
      "source": [
        "### Coordinates detection"
      ],
      "metadata": {
        "id": "9swXfUQML_rF"
      }
    },
    {
      "cell_type": "markdown",
      "source": [
        "In order to find a line on an image we are going to use HoughLinesP - a popular line detection algorithm of OpenCV library.\n",
        "OpenCV is a Python library that allows us to perform image processing and computer vision tasks. It provides a wide range of features, including object detection, face recognition, and tracking.\n"
      ],
      "metadata": {
        "id": "kDV6yJVNL_uP"
      }
    },
    {
      "cell_type": "code",
      "source": [
        "def detect_coordinates(image: np.ndarray) -> tuple[int, int, int, int]:\n",
        "  \"\"\"\n",
        "  Gets an image in ndarray format, does necessary preprocessing and detects a line\n",
        "  Returns a line coordinates x1_, y1_, x2_, y2_\n",
        "  \"\"\"\n",
        "  # If we had an RGB image, we would use Canny() method instead of inverting it,\n",
        "  # for preprocessing the image before detecting the lines\n",
        "  # image = cv2.Canny(image, 50, 200)\n",
        "\n",
        "  image = cv2.bitwise_not(image)\n",
        "\n",
        "  # Setting up default values in case we do not detect any line\n",
        "  x1_, y1_, x2_, y2_ = 0, 0, 0, 0\n",
        "\n",
        "  # According to the documentation it is advised to blur an image before detecting the lines\n",
        "  image = cv2.GaussianBlur(image, (3, 3), 0)\n",
        "  threshold = 5 # starting threshold which we will change in order to adjust the sensitivity\n",
        "  lines = cv2.HoughLinesP(image, rho=1, theta=np.pi/180, threshold=threshold, minLineLength=3, maxLineGap=2)\n",
        "  while lines is None or len(lines) != 1:\n",
        "    threshold += 1\n",
        "    if lines is not None:\n",
        "      x1_, y1_, x2_, y2_ = lines[0][0]\n",
        "    lines = cv2.HoughLinesP(image, rho=1, theta=np.pi/180, threshold=threshold, minLineLength=3, maxLineGap=2)\n",
        "    if threshold > 200:\n",
        "      break\n",
        "  return x1_, y1_, x2_, y2_"
      ],
      "metadata": {
        "id": "FbMeRJRhUE1Y"
      },
      "execution_count": null,
      "outputs": []
    },
    {
      "cell_type": "code",
      "source": [
        "# to be added soon\n",
        "def calculate_the_loss():\n",
        "  pass"
      ],
      "metadata": {
        "id": "dWP5xtzMQ1Is"
      },
      "execution_count": null,
      "outputs": []
    },
    {
      "cell_type": "code",
      "source": [
        "def order_coordinates(coor_list: list, x1: int, y1: int, x2:int, y2: int):\n",
        "  \"\"\"\n",
        "  Assign detected values to correct coordinate (x1, y1) or (x2, y2)\n",
        "  \"\"\"\n",
        "  if abs(coor_list[0] - x1) < abs(coor_list[0] - x2):\n",
        "    x1_ = coor_list[0]\n",
        "    x2_ = coor_list[2]\n",
        "  else:\n",
        "    x1_ = coor_list[2]\n",
        "    x2_ = coor_list[0]\n",
        "  if abs(coor_list[1] - y1) < abs(coor_list[1] - y2):\n",
        "    y1_ = coor_list[1]\n",
        "    y2_ = coor_list[3]\n",
        "  else:\n",
        "    y1_ = coor_list[3]\n",
        "    y2_ = coor_list[1]\n",
        "  return x1_, y1_, x2_, y2_"
      ],
      "metadata": {
        "id": "GD4i2AJ7zf3M"
      },
      "execution_count": null,
      "outputs": []
    },
    {
      "cell_type": "markdown",
      "source": [
        "### Generating images, data table, csv file and saving all the images into IMAGE_DIR folder"
      ],
      "metadata": {
        "id": "RjlNaw6VNUyd"
      }
    },
    {
      "cell_type": "code",
      "source": [
        "# Generating dataset\n",
        "data_list = []\n",
        "for i in range(0, SET_SIZE):\n",
        "\n",
        "  # Generating a new image\n",
        "  img = Image.new('1', (IMG_SIZE, IMG_SIZE), 'white')\n",
        "  draw = ImageDraw.Draw(img)\n",
        "  # Drawing a line with coordinates at dots[i]\n",
        "  draw.line(dots[i], fill='black', width=1)\n",
        "  img.save(os.path.join(IMAGE_DIR, str(i) +  '.png'))\n",
        "  img = cv2.imread(os.path.join(IMAGE_DIR, str(i) + '.png'), 0)\n",
        "\n",
        "  # Extracting essential data to store it in one place\n",
        "  # filename, width, height, x1, y1, x2, y2\n",
        "  x1, y1, x2, y2 = dots[i][0], dots[i][1], dots[i][2], dots[i][3]\n",
        "  height, width = img.shape\n",
        "  found_coordinates = detect_coordinates(img)\n",
        "  x1_, y1_, x2_, y2_ = order_coordinates(found_coordinates, x1, y1, x2, y2)\n",
        "  # append current data to a temporary list of tuples\n",
        "  data_list.append((str(i) + '.png', width, height, x1, y1, x2, y2, x1_, y1_, x2_, y2_))\n",
        "\n",
        "\n",
        "column_name = ['filename', 'width', 'height', 'x1', 'y1', 'x2', 'y2', 'x1_', 'y1_', 'x2_', 'y2_']\n",
        "\n",
        "# Creating a data frame from generated data\n",
        "img_df = pd.DataFrame(data_list, columns = column_name)\n",
        "\n",
        "# Save the data into .csv file\n",
        "img_df.to_csv('dataset.csv', index=None)\n",
        "\n",
        "# Let's see what we've got\n",
        "img_df.head()"
      ],
      "metadata": {
        "colab": {
          "base_uri": "https://localhost:8080/",
          "height": 206
        },
        "id": "aFZTyOQhL_kK",
        "outputId": "ac90e767-c836-41a4-ba77-3a19532ea3b8"
      },
      "execution_count": null,
      "outputs": [
        {
          "output_type": "execute_result",
          "data": {
            "text/plain": [
              "  filename  width  height  x1  y1  x2  y2  x1_  y1_  x2_  y2_\n",
              "0    0.png     64      64  32  41  25  30   33   40   25   29\n",
              "1    1.png     64      64  24  14  37  60   23   15   36   61\n",
              "2    2.png     64      64  30  18   0  35   31   17    0   35\n",
              "3    3.png     64      64   3  63  22  24    2   63   23   23\n",
              "4    4.png     64      64  49  23  42  41   50   22   41   42"
            ],
            "text/html": [
              "\n",
              "  <div id=\"df-999b4709-580f-4af6-b611-d9b79497a6e4\">\n",
              "    <div class=\"colab-df-container\">\n",
              "      <div>\n",
              "<style scoped>\n",
              "    .dataframe tbody tr th:only-of-type {\n",
              "        vertical-align: middle;\n",
              "    }\n",
              "\n",
              "    .dataframe tbody tr th {\n",
              "        vertical-align: top;\n",
              "    }\n",
              "\n",
              "    .dataframe thead th {\n",
              "        text-align: right;\n",
              "    }\n",
              "</style>\n",
              "<table border=\"1\" class=\"dataframe\">\n",
              "  <thead>\n",
              "    <tr style=\"text-align: right;\">\n",
              "      <th></th>\n",
              "      <th>filename</th>\n",
              "      <th>width</th>\n",
              "      <th>height</th>\n",
              "      <th>x1</th>\n",
              "      <th>y1</th>\n",
              "      <th>x2</th>\n",
              "      <th>y2</th>\n",
              "      <th>x1_</th>\n",
              "      <th>y1_</th>\n",
              "      <th>x2_</th>\n",
              "      <th>y2_</th>\n",
              "    </tr>\n",
              "  </thead>\n",
              "  <tbody>\n",
              "    <tr>\n",
              "      <th>0</th>\n",
              "      <td>0.png</td>\n",
              "      <td>64</td>\n",
              "      <td>64</td>\n",
              "      <td>32</td>\n",
              "      <td>41</td>\n",
              "      <td>25</td>\n",
              "      <td>30</td>\n",
              "      <td>33</td>\n",
              "      <td>40</td>\n",
              "      <td>25</td>\n",
              "      <td>29</td>\n",
              "    </tr>\n",
              "    <tr>\n",
              "      <th>1</th>\n",
              "      <td>1.png</td>\n",
              "      <td>64</td>\n",
              "      <td>64</td>\n",
              "      <td>24</td>\n",
              "      <td>14</td>\n",
              "      <td>37</td>\n",
              "      <td>60</td>\n",
              "      <td>23</td>\n",
              "      <td>15</td>\n",
              "      <td>36</td>\n",
              "      <td>61</td>\n",
              "    </tr>\n",
              "    <tr>\n",
              "      <th>2</th>\n",
              "      <td>2.png</td>\n",
              "      <td>64</td>\n",
              "      <td>64</td>\n",
              "      <td>30</td>\n",
              "      <td>18</td>\n",
              "      <td>0</td>\n",
              "      <td>35</td>\n",
              "      <td>31</td>\n",
              "      <td>17</td>\n",
              "      <td>0</td>\n",
              "      <td>35</td>\n",
              "    </tr>\n",
              "    <tr>\n",
              "      <th>3</th>\n",
              "      <td>3.png</td>\n",
              "      <td>64</td>\n",
              "      <td>64</td>\n",
              "      <td>3</td>\n",
              "      <td>63</td>\n",
              "      <td>22</td>\n",
              "      <td>24</td>\n",
              "      <td>2</td>\n",
              "      <td>63</td>\n",
              "      <td>23</td>\n",
              "      <td>23</td>\n",
              "    </tr>\n",
              "    <tr>\n",
              "      <th>4</th>\n",
              "      <td>4.png</td>\n",
              "      <td>64</td>\n",
              "      <td>64</td>\n",
              "      <td>49</td>\n",
              "      <td>23</td>\n",
              "      <td>42</td>\n",
              "      <td>41</td>\n",
              "      <td>50</td>\n",
              "      <td>22</td>\n",
              "      <td>41</td>\n",
              "      <td>42</td>\n",
              "    </tr>\n",
              "  </tbody>\n",
              "</table>\n",
              "</div>\n",
              "      <button class=\"colab-df-convert\" onclick=\"convertToInteractive('df-999b4709-580f-4af6-b611-d9b79497a6e4')\"\n",
              "              title=\"Convert this dataframe to an interactive table.\"\n",
              "              style=\"display:none;\">\n",
              "        \n",
              "  <svg xmlns=\"http://www.w3.org/2000/svg\" height=\"24px\"viewBox=\"0 0 24 24\"\n",
              "       width=\"24px\">\n",
              "    <path d=\"M0 0h24v24H0V0z\" fill=\"none\"/>\n",
              "    <path d=\"M18.56 5.44l.94 2.06.94-2.06 2.06-.94-2.06-.94-.94-2.06-.94 2.06-2.06.94zm-11 1L8.5 8.5l.94-2.06 2.06-.94-2.06-.94L8.5 2.5l-.94 2.06-2.06.94zm10 10l.94 2.06.94-2.06 2.06-.94-2.06-.94-.94-2.06-.94 2.06-2.06.94z\"/><path d=\"M17.41 7.96l-1.37-1.37c-.4-.4-.92-.59-1.43-.59-.52 0-1.04.2-1.43.59L10.3 9.45l-7.72 7.72c-.78.78-.78 2.05 0 2.83L4 21.41c.39.39.9.59 1.41.59.51 0 1.02-.2 1.41-.59l7.78-7.78 2.81-2.81c.8-.78.8-2.07 0-2.86zM5.41 20L4 18.59l7.72-7.72 1.47 1.35L5.41 20z\"/>\n",
              "  </svg>\n",
              "      </button>\n",
              "      \n",
              "  <style>\n",
              "    .colab-df-container {\n",
              "      display:flex;\n",
              "      flex-wrap:wrap;\n",
              "      gap: 12px;\n",
              "    }\n",
              "\n",
              "    .colab-df-convert {\n",
              "      background-color: #E8F0FE;\n",
              "      border: none;\n",
              "      border-radius: 50%;\n",
              "      cursor: pointer;\n",
              "      display: none;\n",
              "      fill: #1967D2;\n",
              "      height: 32px;\n",
              "      padding: 0 0 0 0;\n",
              "      width: 32px;\n",
              "    }\n",
              "\n",
              "    .colab-df-convert:hover {\n",
              "      background-color: #E2EBFA;\n",
              "      box-shadow: 0px 1px 2px rgba(60, 64, 67, 0.3), 0px 1px 3px 1px rgba(60, 64, 67, 0.15);\n",
              "      fill: #174EA6;\n",
              "    }\n",
              "\n",
              "    [theme=dark] .colab-df-convert {\n",
              "      background-color: #3B4455;\n",
              "      fill: #D2E3FC;\n",
              "    }\n",
              "\n",
              "    [theme=dark] .colab-df-convert:hover {\n",
              "      background-color: #434B5C;\n",
              "      box-shadow: 0px 1px 3px 1px rgba(0, 0, 0, 0.15);\n",
              "      filter: drop-shadow(0px 1px 2px rgba(0, 0, 0, 0.3));\n",
              "      fill: #FFFFFF;\n",
              "    }\n",
              "  </style>\n",
              "\n",
              "      <script>\n",
              "        const buttonEl =\n",
              "          document.querySelector('#df-999b4709-580f-4af6-b611-d9b79497a6e4 button.colab-df-convert');\n",
              "        buttonEl.style.display =\n",
              "          google.colab.kernel.accessAllowed ? 'block' : 'none';\n",
              "\n",
              "        async function convertToInteractive(key) {\n",
              "          const element = document.querySelector('#df-999b4709-580f-4af6-b611-d9b79497a6e4');\n",
              "          const dataTable =\n",
              "            await google.colab.kernel.invokeFunction('convertToInteractive',\n",
              "                                                     [key], {});\n",
              "          if (!dataTable) return;\n",
              "\n",
              "          const docLinkHtml = 'Like what you see? Visit the ' +\n",
              "            '<a target=\"_blank\" href=https://colab.research.google.com/notebooks/data_table.ipynb>data table notebook</a>'\n",
              "            + ' to learn more about interactive tables.';\n",
              "          element.innerHTML = '';\n",
              "          dataTable['output_type'] = 'display_data';\n",
              "          await google.colab.output.renderOutput(dataTable, element);\n",
              "          const docLink = document.createElement('div');\n",
              "          docLink.innerHTML = docLinkHtml;\n",
              "          element.appendChild(docLink);\n",
              "        }\n",
              "      </script>\n",
              "    </div>\n",
              "  </div>\n",
              "  "
            ]
          },
          "metadata": {},
          "execution_count": 9
        }
      ]
    },
    {
      "cell_type": "markdown",
      "source": [
        "### Images and found line coordinates visualization"
      ],
      "metadata": {
        "id": "2D5rLRH3TIg5"
      }
    },
    {
      "cell_type": "code",
      "source": [
        "def get_detected_coordinates(img_filename: str):\n",
        "  \"\"\"\n",
        "  Retrieving detected coordinates from the data frame\n",
        "  \"\"\"\n",
        "  x1_ = int(img_df[img_df.filename==img_filename].iloc[:,7])\n",
        "  y1_ = int(img_df[img_df.filename==img_filename].iloc[:,8])\n",
        "  x2_ = int(img_df[img_df.filename==img_filename].iloc[:,9])\n",
        "  y2_ = int(img_df[img_df.filename==img_filename].iloc[:,10])\n",
        "  return x1_, y1_, x2_, y2_"
      ],
      "metadata": {
        "id": "8mmJxBAy5rdL"
      },
      "execution_count": null,
      "outputs": []
    },
    {
      "cell_type": "code",
      "source": [
        "# Visualize random 9 lines with detected coordinates\n",
        "# torch.manual_seed(78)\n",
        "\n",
        "# Prepare the visualization settings\n",
        "fig = plt.figure(figsize=(11, 11))\n",
        "plt.subplots_adjust(top = 0.9, bottom=0.01, hspace=0.05, wspace=0.3)\n",
        "rows, cols = 3, 3\n",
        "\n",
        "# Visualize 1 image per each cell\n",
        "for i in range(1, rows*cols + 1):\n",
        "\n",
        "  # Read a random image\n",
        "  random_idx = torch.randint(0, SET_SIZE, size=[1]).item()\n",
        "  filename = str(random_idx) + '.png'\n",
        "  img = Image.open(os.path.join(IMAGE_DIR, filename))\n",
        "\n",
        "  # Getting initial coordinates\n",
        "  x1, y1, x2, y2 = dots[random_idx]\n",
        "\n",
        "  # Getting detected coordinates with a help of a function written above\n",
        "  x1_, y1_, x2_, y2_ = get_detected_coordinates(filename)\n",
        "\n",
        "  # Displaying the line\n",
        "  fig.add_subplot(rows, cols, i)\n",
        "  plt.imshow(img, cmap='gray')\n",
        "\n",
        "  # Plotting detected line coordinates by computer vision algorithm\n",
        "  plt.plot(x1_, y1_, 'ro')\n",
        "  plt.plot(x2_, y2_, 'ro')\n",
        "\n",
        "  # Adding title\n",
        "  plt.title(f'Original dots: ({str(x1)}, {str(y1)}), ({str(x2)}, {str(y2)})\\n Detected dots: ({x1_}, {y1_}), ({x2_}, {y2_})\\nFilename: {filename}', fontsize=10)"
      ],
      "metadata": {
        "colab": {
          "base_uri": "https://localhost:8080/",
          "height": 1000
        },
        "id": "zlpMpCafL_nS",
        "outputId": "b3d264a9-fb18-4330-c190-14d72b5e8865"
      },
      "execution_count": null,
      "outputs": [
        {
          "output_type": "display_data",
          "data": {
            "text/plain": [
              "<Figure size 1100x1100 with 9 Axes>"
            ],
            "image/png": "[encoded data removed]"
          },
          "metadata": {}
        }
      ]
    },
    {
      "cell_type": "markdown",
      "source": [
        "#### Thank you\n",
        "#### I hope to hear from you soon.\n",
        "\n",
        "#### Yours sincerely,\n",
        "#### Yurii Rakhimov"
      ],
      "metadata": {
        "id": "oMhMBYyIB0Ud"
      }
    }
  ]
}